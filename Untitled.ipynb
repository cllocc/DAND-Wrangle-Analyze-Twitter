{
 "cells": [
  {
   "cell_type": "code",
   "execution_count": 1,
   "metadata": {},
   "outputs": [],
   "source": [
    "import sqlite3\n",
    "\n",
    "conn = sqlite3.connect('twitter.db')  # You can create a new database by changing the name within the quotes\n",
    "c = conn.cursor() # The database will be saved in the location where your 'py' file is saved\n",
    "\n",
    "# Create table - CLIENTS\n",
    "c.execute('''CREATE TABLE TAE\n",
    "             ([generated_id] INTEGER PRIMARY KEY,[tweet_id] int64, [in_reply_to_status_id] float, [in_reply_to_user_id ] float)''')\n",
    "                 \n",
    "conn.commit()\n",
    "\n",
    "# Note that the syntax to create new tables should only be used once in the code (unless you dropped the table/s at the end of the code). \n",
    "# The [generated_id] column is used to set an auto-increment ID for each record\n",
    "# When creating a new table, you can add both the field names as well as the field formats (e.g., Text)"
   ]
  },
  {
   "cell_type": "code",
   "execution_count": null,
   "metadata": {},
   "outputs": [],
   "source": [
    "<class 'pandas.core.frame.DataFrame'>\n",
    "RangeIndex: 2356 entries, 0 to 2355\n",
    "Data columns (total 17 columns):\n",
    "tweet_id                      2356 non-null int64\n",
    "in_reply_to_status_id         78 non-null float64\n",
    "in_reply_to_user_id           78 non-null float64\n",
    "timestamp                     2356 non-null object\n",
    "source                        2356 non-null object\n",
    "text                          2356 non-null object\n",
    "retweeted_status_id           181 non-null float64\n",
    "retweeted_status_user_id      181 non-null float64\n",
    "retweeted_status_timestamp    181 non-null object\n",
    "expanded_urls                 2297 non-null object\n",
    "rating_numerator              2356 non-null int64\n",
    "rating_denominator            2356 non-null int64\n",
    "name                          2356 non-null object\n",
    "doggo                         2356 non-null object\n",
    "floofer                       2356 non-null object\n",
    "pupper                        2356 non-null object\n",
    "puppo                         2356 non-null object\n",
    "dtypes: float64(4), int64(3), object(10)\n",
    "memory usage: 313.0+ KB"
   ]
  },
  {
   "cell_type": "code",
   "execution_count": 11,
   "metadata": {},
   "outputs": [
    {
     "name": "stdout",
     "output_type": "stream",
     "text": [
      "[]\n"
     ]
    }
   ],
   "source": [
    "conn = sqlite3.connect('twitter.db')  # You can create a new database by changing the name within the quotes\n",
    "\n",
    "cur = conn.cursor()\n",
    "cur.execute(\"select * from TAE limit 5;\")\n",
    "\n",
    "results = cur.fetchall()\n",
    "print(results)"
   ]
  },
  {
   "cell_type": "code",
   "execution_count": 28,
   "metadata": {},
   "outputs": [
    {
     "ename": "TypeError",
     "evalue": "an integer is required (got type str)",
     "output_type": "error",
     "traceback": [
      "\u001b[1;31m---------------------------------------------------------------------------\u001b[0m",
      "\u001b[1;31mTypeError\u001b[0m                                 Traceback (most recent call last)",
      "\u001b[1;32m<ipython-input-28-aa6451c2bb08>\u001b[0m in \u001b[0;36m<module>\u001b[1;34m\u001b[0m\n\u001b[0;32m      5\u001b[0m \u001b[0mcur\u001b[0m\u001b[1;33m.\u001b[0m\u001b[0mexecute\u001b[0m\u001b[1;33m(\u001b[0m\u001b[1;34m'''CREATE TABLE wow ([generated_id] INTEGER PRIMARY KEY,[tweet_id] int64, [in_reply_to_status_id] float, [in_reply_to_user_id ] float)'''\u001b[0m\u001b[1;33m)\u001b[0m \u001b[1;31m# use your column names here\u001b[0m\u001b[1;33m\u001b[0m\u001b[1;33m\u001b[0m\u001b[0m\n\u001b[0;32m      6\u001b[0m \u001b[1;33m\u001b[0m\u001b[0m\n\u001b[1;32m----> 7\u001b[1;33m \u001b[1;32mwith\u001b[0m \u001b[0mopen\u001b[0m\u001b[1;33m(\u001b[0m\u001b[1;34m'twitter-archive-enhanced.csv'\u001b[0m\u001b[1;33m,\u001b[0m\u001b[1;34m'rb'\u001b[0m\u001b[1;33m,\u001b[0m\u001b[1;34m'encoding = utf8'\u001b[0m\u001b[1;33m)\u001b[0m \u001b[1;32mas\u001b[0m \u001b[0mfin\u001b[0m\u001b[1;33m:\u001b[0m \u001b[1;31m# `with` statement available in 2.5+\u001b[0m\u001b[1;33m\u001b[0m\u001b[1;33m\u001b[0m\u001b[0m\n\u001b[0m\u001b[0;32m      8\u001b[0m     \u001b[1;31m# csv.DictReader uses first line in file for column headings by default\u001b[0m\u001b[1;33m\u001b[0m\u001b[1;33m\u001b[0m\u001b[1;33m\u001b[0m\u001b[0m\n\u001b[0;32m      9\u001b[0m     \u001b[0mdr\u001b[0m \u001b[1;33m=\u001b[0m \u001b[0mcsv\u001b[0m\u001b[1;33m.\u001b[0m\u001b[0mDictReader\u001b[0m\u001b[1;33m(\u001b[0m\u001b[0mfin\u001b[0m\u001b[1;33m)\u001b[0m \u001b[1;31m# comma is default delimiter\u001b[0m\u001b[1;33m\u001b[0m\u001b[1;33m\u001b[0m\u001b[0m\n",
      "\u001b[1;31mTypeError\u001b[0m: an integer is required (got type str)"
     ]
    }
   ],
   "source": [
    "import csv, sqlite3\n",
    "\n",
    "con = sqlite3.connect(\"twitter\")\n",
    "cur = con.cursor()\n",
    "cur.execute('''CREATE TABLE wow ([generated_id] INTEGER PRIMARY KEY,[tweet_id] int64, [in_reply_to_status_id] float, [in_reply_to_user_id ] float)''') # use your column names here\n",
    "\n",
    "with open('twitter-archive-enhanced.csv','rb','encoding = utf8') as fin: # `with` statement available in 2.5+\n",
    "    # csv.DictReader uses first line in file for column headings by default\n",
    "    dr = csv.DictReader(fin) # comma is default delimiter\n",
    "    to_db = [(i['col1'], i['col2'],i['col3']) for i in dr]\n",
    "\n",
    "cur.executemany(\"INSERT INTO wow (tweet_id, in_reply_to_status_id,in_reply_to_user_id) VALUES (?, ?,?);\", to_db)\n",
    "con.commit()\n",
    "con.close()"
   ]
  }
 ],
 "metadata": {
  "kernelspec": {
   "display_name": "Python 3",
   "language": "python",
   "name": "python3"
  },
  "language_info": {
   "codemirror_mode": {
    "name": "ipython",
    "version": 3
   },
   "file_extension": ".py",
   "mimetype": "text/x-python",
   "name": "python",
   "nbconvert_exporter": "python",
   "pygments_lexer": "ipython3",
   "version": "3.7.4"
  }
 },
 "nbformat": 4,
 "nbformat_minor": 2
}
