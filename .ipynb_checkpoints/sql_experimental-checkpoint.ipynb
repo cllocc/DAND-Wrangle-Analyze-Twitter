{
 "cells": [
  {
   "cell_type": "code",
   "execution_count": 2,
   "metadata": {},
   "outputs": [],
   "source": [
    "import csv\n",
    "import sqlite3\n",
    "#A script to create and import a .csv into sqlite3\n",
    "\n",
    "con = sqlite3.connect(\"twitter.db\")\n",
    "cur = con.cursor()\n",
    "cur.execute(\"CREATE TABLE twitter_archive (id INTEGER PRIMARY KEY,tweet_id int64(50),\"\n",
    "            \"in_reply_to_status_id float(10,2),in_reply_to_user_id float(10,2),timestamp datetime,source varchar(200),text varchar(300));\")\n",
    "\n",
    "with open('twitter-archive-enhanced-utf8.csv','r', encoding='utf-8') as fin: # `with` statement available in 2.5+\n",
    "    # csv.DictReader uses first line in file for column headings by default\n",
    "    dr = csv.DictReader(fin) # comma is default delimiter\n",
    "    to_db = [(i['tweet_id'], i['in_reply_to_status_id'],i['in_reply_to_user_id'],i['timestamp'],i['source'],i['text']) for i in dr]\n",
    "\n",
    "cur.executemany(\"INSERT INTO twitter_archive (tweet_id, in_reply_to_status_id, in_reply_to_user_id,timestamp,source,text) VALUES (?,?,?,?,?,?);\", to_db)\n",
    "con.commit()"
   ]
  },
  {
   "cell_type": "code",
   "execution_count": null,
   "metadata": {},
   "outputs": [],
   "source": [
    "<class 'pandas.core.frame.DataFrame'>\n",
    "RangeIndex: 2356 entries, 0 to 2355\n",
    "Data columns (total 17 columns):\n",
    "tweet_id                      2356 non-null int64\n",
    "in_reply_to_status_id         78 non-null float64\n",
    "in_reply_to_user_id           78 non-null float64\n",
    "timestamp                     2356 non-null object\n",
    "source                        2356 non-null object\n",
    "text                          2356 non-null object\n",
    "retweeted_status_id           181 non-null float64\n",
    "retweeted_status_user_id      181 non-null float64\n",
    "retweeted_status_timestamp    181 non-null object\n",
    "expanded_urls                 2297 non-null object\n",
    "rating_numerator              2356 non-null int64\n",
    "rating_denominator            2356 non-null int64\n",
    "name                          2356 non-null object\n",
    "doggo                         2356 non-null object\n",
    "floofer                       2356 non-null object\n",
    "pupper                        2356 non-null object\n",
    "puppo                         2356 non-null object\n",
    "dtypes: float64(4), int64(3), object(10)\n",
    "memory usage: 313.0+ KB"
   ]
  },
  {
   "cell_type": "code",
   "execution_count": 10,
   "metadata": {},
   "outputs": [
    {
     "ename": "SyntaxError",
     "evalue": "EOL while scanning string literal (<ipython-input-10-5a83782fd376>, line 6)",
     "output_type": "error",
     "traceback": [
      "\u001b[1;36m  File \u001b[1;32m\"<ipython-input-10-5a83782fd376>\"\u001b[1;36m, line \u001b[1;32m6\u001b[0m\n\u001b[1;33m    c.execute('SELECT * FROM twitter_archive where id = 1)\u001b[0m\n\u001b[1;37m                                                          ^\u001b[0m\n\u001b[1;31mSyntaxError\u001b[0m\u001b[1;31m:\u001b[0m EOL while scanning string literal\n"
     ]
    }
   ],
   "source": [
    "# open existing database\n",
    "conn = sqlite3.connect('twitter.db')\n",
    "\n",
    "c = conn.cursor()\n",
    "\n",
    "c.execute('SELECT * FROM twitter_archive where id = 1)"
   ]
  },
  {
   "cell_type": "code",
   "execution_count": 11,
   "metadata": {},
   "outputs": [
    {
     "name": "stdout",
     "output_type": "stream",
     "text": [
      "Success\n"
     ]
    }
   ],
   "source": [
    "import sqlite3\n",
    "import pandas.io.sql as sql\n",
    "con = sqlite3.connect('twitter.db')\n",
    "table = sql.read_sql('select * from twitter_archive where id = 1', con)\n",
    "table.to_csv('wtf.csv')\n",
    "print(\"Success\")"
   ]
  },
  {
   "cell_type": "code",
   "execution_count": 17,
   "metadata": {},
   "outputs": [
    {
     "data": {
      "text/html": [
       "<div>\n",
       "<style scoped>\n",
       "    .dataframe tbody tr th:only-of-type {\n",
       "        vertical-align: middle;\n",
       "    }\n",
       "\n",
       "    .dataframe tbody tr th {\n",
       "        vertical-align: top;\n",
       "    }\n",
       "\n",
       "    .dataframe thead th {\n",
       "        text-align: right;\n",
       "    }\n",
       "</style>\n",
       "<table border=\"1\" class=\"dataframe\">\n",
       "  <thead>\n",
       "    <tr style=\"text-align: right;\">\n",
       "      <th></th>\n",
       "      <th>Unnamed: 0</th>\n",
       "      <th>id</th>\n",
       "      <th>tweet_id</th>\n",
       "      <th>in_reply_to_status_id</th>\n",
       "      <th>in_reply_to_user_id</th>\n",
       "      <th>timestamp</th>\n",
       "      <th>source</th>\n",
       "      <th>text</th>\n",
       "    </tr>\n",
       "  </thead>\n",
       "  <tbody>\n",
       "    <tr>\n",
       "      <td>0</td>\n",
       "      <td>0</td>\n",
       "      <td>1</td>\n",
       "      <td>892420643555336193</td>\n",
       "      <td>NaN</td>\n",
       "      <td>NaN</td>\n",
       "      <td>2017-08-01 16:23:56 +0000</td>\n",
       "      <td>&lt;a href=\"http://twitter.com/download/iphone\" r...</td>\n",
       "      <td>This is Phineas. He's a mystical boy. Only eve...</td>\n",
       "    </tr>\n",
       "  </tbody>\n",
       "</table>\n",
       "</div>"
      ],
      "text/plain": [
       "   Unnamed: 0  id            tweet_id  in_reply_to_status_id  \\\n",
       "0           0   1  892420643555336193                    NaN   \n",
       "\n",
       "   in_reply_to_user_id                  timestamp  \\\n",
       "0                  NaN  2017-08-01 16:23:56 +0000   \n",
       "\n",
       "                                              source  \\\n",
       "0  <a href=\"http://twitter.com/download/iphone\" r...   \n",
       "\n",
       "                                                text  \n",
       "0  This is Phineas. He's a mystical boy. Only eve...  "
      ]
     },
     "execution_count": 17,
     "metadata": {},
     "output_type": "execute_result"
    }
   ],
   "source": [
    "import pandas as pd\n",
    "df = pd.read_csv('wtf.csv', encoding = 'utf-8')\n",
    "df"
   ]
  }
 ],
 "metadata": {
  "kernelspec": {
   "display_name": "Python 3",
   "language": "python",
   "name": "python3"
  },
  "language_info": {
   "codemirror_mode": {
    "name": "ipython",
    "version": 3
   },
   "file_extension": ".py",
   "mimetype": "text/x-python",
   "name": "python",
   "nbconvert_exporter": "python",
   "pygments_lexer": "ipython3",
   "version": "3.7.4"
  }
 },
 "nbformat": 4,
 "nbformat_minor": 2
}
